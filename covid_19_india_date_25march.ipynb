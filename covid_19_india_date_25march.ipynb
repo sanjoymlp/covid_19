{
 "cells": [
  {
   "cell_type": "code",
   "execution_count": 30,
   "metadata": {},
   "outputs": [],
   "source": [
    "from sklearn.datasets import load_iris\n",
    "iris = load_iris()"
   ]
  },
  {
   "cell_type": "code",
   "execution_count": 31,
   "metadata": {},
   "outputs": [],
   "source": [
    "from sklearn.linear_model import LinearRegression"
   ]
  },
  {
   "cell_type": "code",
   "execution_count": 32,
   "metadata": {},
   "outputs": [],
   "source": [
    "import pandas as pd\n",
    "import numpy as np\n",
    "import matplotlib.pyplot as plt\n",
    "from sklearn.model_selection import train_test_split\n",
    "import tensorflow as tf\n",
    "import seaborn as sns"
   ]
  },
  {
   "cell_type": "code",
   "execution_count": 33,
   "metadata": {},
   "outputs": [],
   "source": [
    "p=pd.read_csv(r\"C:\\Users\\sanjoy\\Downloads\\real_estate_price_size_year_view.csv\")"
   ]
  },
  {
   "cell_type": "code",
   "execution_count": 34,
   "metadata": {},
   "outputs": [],
   "source": [
    "spp=pd.read_csv(r\"C:\\Users\\sanjoy\\Downloads\\secondcar.csv\")\n",
    "sppp=pd.read_csv(r\"C:\\Users\\sanjoy\\Downloads\\car_sales.csv\")\n",
    "self=pd.read_csv(r\"C:\\Users\\sanjoy\\Downloads\\covid_19_india.csv\")"
   ]
  },
  {
   "cell_type": "code",
   "execution_count": 35,
   "metadata": {},
   "outputs": [],
   "source": [
    "sf=pd.read_csv(r\"C:\\Users\\sanjoy\\Downloads\\covid_19_india2.csv\")"
   ]
  },
  {
   "cell_type": "code",
   "execution_count": 36,
   "metadata": {},
   "outputs": [
    {
     "data": {
      "text/html": [
       "<div>\n",
       "<style scoped>\n",
       "    .dataframe tbody tr th:only-of-type {\n",
       "        vertical-align: middle;\n",
       "    }\n",
       "\n",
       "    .dataframe tbody tr th {\n",
       "        vertical-align: top;\n",
       "    }\n",
       "\n",
       "    .dataframe thead th {\n",
       "        text-align: right;\n",
       "    }\n",
       "</style>\n",
       "<table border=\"1\" class=\"dataframe\">\n",
       "  <thead>\n",
       "    <tr style=\"text-align: right;\">\n",
       "      <th></th>\n",
       "      <th>sno</th>\n",
       "      <th>date</th>\n",
       "      <th>state</th>\n",
       "      <th>IndianResident</th>\n",
       "      <th>ForeignResident</th>\n",
       "      <th>cured</th>\n",
       "      <th>died</th>\n",
       "      <th>age</th>\n",
       "    </tr>\n",
       "  </thead>\n",
       "  <tbody>\n",
       "    <tr>\n",
       "      <td>0</td>\n",
       "      <td>1</td>\n",
       "      <td>30.1</td>\n",
       "      <td>'kerala'</td>\n",
       "      <td>1</td>\n",
       "      <td>0</td>\n",
       "      <td>0</td>\n",
       "      <td>0</td>\n",
       "      <td>45</td>\n",
       "    </tr>\n",
       "    <tr>\n",
       "      <td>1</td>\n",
       "      <td>2</td>\n",
       "      <td>1.2</td>\n",
       "      <td>'kerala'</td>\n",
       "      <td>1</td>\n",
       "      <td>0</td>\n",
       "      <td>0</td>\n",
       "      <td>0</td>\n",
       "      <td>38</td>\n",
       "    </tr>\n",
       "    <tr>\n",
       "      <td>2</td>\n",
       "      <td>3</td>\n",
       "      <td>2.2</td>\n",
       "      <td>'kerala'</td>\n",
       "      <td>1</td>\n",
       "      <td>0</td>\n",
       "      <td>0</td>\n",
       "      <td>0</td>\n",
       "      <td>56</td>\n",
       "    </tr>\n",
       "    <tr>\n",
       "      <td>3</td>\n",
       "      <td>4</td>\n",
       "      <td>3.2</td>\n",
       "      <td>'hareyana'</td>\n",
       "      <td>1</td>\n",
       "      <td>0</td>\n",
       "      <td>0</td>\n",
       "      <td>0</td>\n",
       "      <td>44</td>\n",
       "    </tr>\n",
       "    <tr>\n",
       "      <td>4</td>\n",
       "      <td>5</td>\n",
       "      <td>3.2</td>\n",
       "      <td>'maharashtra'</td>\n",
       "      <td>1</td>\n",
       "      <td>0</td>\n",
       "      <td>0</td>\n",
       "      <td>0</td>\n",
       "      <td>68</td>\n",
       "    </tr>\n",
       "    <tr>\n",
       "      <td>...</td>\n",
       "      <td>...</td>\n",
       "      <td>...</td>\n",
       "      <td>...</td>\n",
       "      <td>...</td>\n",
       "      <td>...</td>\n",
       "      <td>...</td>\n",
       "      <td>...</td>\n",
       "      <td>...</td>\n",
       "    </tr>\n",
       "    <tr>\n",
       "      <td>427</td>\n",
       "      <td>426</td>\n",
       "      <td>23.3</td>\n",
       "      <td>'wb'</td>\n",
       "      <td>1</td>\n",
       "      <td>0</td>\n",
       "      <td>0</td>\n",
       "      <td>0</td>\n",
       "      <td>42</td>\n",
       "    </tr>\n",
       "    <tr>\n",
       "      <td>428</td>\n",
       "      <td>427</td>\n",
       "      <td>23.3</td>\n",
       "      <td>'wb'</td>\n",
       "      <td>1</td>\n",
       "      <td>0</td>\n",
       "      <td>0</td>\n",
       "      <td>0</td>\n",
       "      <td>32</td>\n",
       "    </tr>\n",
       "    <tr>\n",
       "      <td>429</td>\n",
       "      <td>428</td>\n",
       "      <td>23.3</td>\n",
       "      <td>'wb'</td>\n",
       "      <td>1</td>\n",
       "      <td>0</td>\n",
       "      <td>0</td>\n",
       "      <td>0</td>\n",
       "      <td>33</td>\n",
       "    </tr>\n",
       "    <tr>\n",
       "      <td>430</td>\n",
       "      <td>429</td>\n",
       "      <td>23.3</td>\n",
       "      <td>'chandirah'</td>\n",
       "      <td>1</td>\n",
       "      <td>0</td>\n",
       "      <td>0</td>\n",
       "      <td>0</td>\n",
       "      <td>39</td>\n",
       "    </tr>\n",
       "    <tr>\n",
       "      <td>431</td>\n",
       "      <td>430</td>\n",
       "      <td>23.3</td>\n",
       "      <td>'himachal_pradesh'</td>\n",
       "      <td>1</td>\n",
       "      <td>0</td>\n",
       "      <td>0</td>\n",
       "      <td>0</td>\n",
       "      <td>66</td>\n",
       "    </tr>\n",
       "  </tbody>\n",
       "</table>\n",
       "<p>432 rows × 8 columns</p>\n",
       "</div>"
      ],
      "text/plain": [
       "     sno  date               state  IndianResident  ForeignResident  cured  \\\n",
       "0      1  30.1            'kerala'               1                0      0   \n",
       "1      2   1.2            'kerala'               1                0      0   \n",
       "2      3   2.2            'kerala'               1                0      0   \n",
       "3      4   3.2          'hareyana'               1                0      0   \n",
       "4      5   3.2       'maharashtra'               1                0      0   \n",
       "..   ...   ...                 ...             ...              ...    ...   \n",
       "427  426  23.3                'wb'               1                0      0   \n",
       "428  427  23.3                'wb'               1                0      0   \n",
       "429  428  23.3                'wb'               1                0      0   \n",
       "430  429  23.3         'chandirah'               1                0      0   \n",
       "431  430  23.3  'himachal_pradesh'               1                0      0   \n",
       "\n",
       "     died age   \n",
       "0       0   45  \n",
       "1       0   38  \n",
       "2       0   56  \n",
       "3       0   44  \n",
       "4       0   68  \n",
       "..    ...  ...  \n",
       "427     0   42  \n",
       "428     0   32  \n",
       "429     0   33  \n",
       "430     0   39  \n",
       "431     0   66  \n",
       "\n",
       "[432 rows x 8 columns]"
      ]
     },
     "execution_count": 36,
     "metadata": {},
     "output_type": "execute_result"
    }
   ],
   "source": [
    "sf"
   ]
  },
  {
   "cell_type": "code",
   "execution_count": 37,
   "metadata": {},
   "outputs": [],
   "source": [
    "real_x=sf[['date']]"
   ]
  },
  {
   "cell_type": "code",
   "execution_count": 38,
   "metadata": {},
   "outputs": [],
   "source": [
    "real_x\n",
    "real_y=sf[['sno']]"
   ]
  },
  {
   "cell_type": "code",
   "execution_count": null,
   "metadata": {},
   "outputs": [],
   "source": []
  },
  {
   "cell_type": "code",
   "execution_count": 39,
   "metadata": {},
   "outputs": [],
   "source": [
    "training_x,testing_x,training_y,testing_y=train_test_split(real_x,real_y,test_size=0.3,random_state=0)"
   ]
  },
  {
   "cell_type": "code",
   "execution_count": 40,
   "metadata": {},
   "outputs": [],
   "source": [
    "Lin=LinearRegression()\n",
    "Lin.fit(training_x, training_y)\n",
    "pred_y=Lin.predict(testing_x)"
   ]
  },
  {
   "cell_type": "code",
   "execution_count": 41,
   "metadata": {},
   "outputs": [
    {
     "data": {
      "text/plain": [
       "array([[ 233.49011523],\n",
       "       [ 312.65214039],\n",
       "       [  75.16606493],\n",
       "       [ 253.28062152],\n",
       "       [ -83.15798538],\n",
       "       [ 233.49011523],\n",
       "       [ 292.8616341 ],\n",
       "       [ 154.32809008],\n",
       "       [ 154.32809008],\n",
       "       [ 233.49011523],\n",
       "       [ -63.36747909],\n",
       "       [ 292.8616341 ],\n",
       "       [ 292.8616341 ],\n",
       "       [ 253.28062152],\n",
       "       [ 233.49011523],\n",
       "       [ 292.8616341 ],\n",
       "       [ 154.32809008],\n",
       "       [ 233.49011523],\n",
       "       [ 253.28062152],\n",
       "       [ 312.65214039],\n",
       "       [ 312.65214039],\n",
       "       [ 292.8616341 ],\n",
       "       [ 154.32809008],\n",
       "       [-124.71804859],\n",
       "       [  15.79454606],\n",
       "       [ 292.8616341 ],\n",
       "       [ 213.69960894],\n",
       "       [ 233.49011523],\n",
       "       [ 292.8616341 ],\n",
       "       [ -63.36747909],\n",
       "       [ 253.28062152],\n",
       "       [ 273.07112781],\n",
       "       [ 233.49011523],\n",
       "       [ 312.65214039],\n",
       "       [ 253.28062152],\n",
       "       [ 253.28062152],\n",
       "       [ 233.49011523],\n",
       "       [ 312.65214039],\n",
       "       [ 292.8616341 ],\n",
       "       [ 233.49011523],\n",
       "       [ 114.7470775 ],\n",
       "       [ 312.65214039],\n",
       "       [ 312.65214039],\n",
       "       [ 193.90910266],\n",
       "       [ -63.36747909],\n",
       "       [ 154.32809008],\n",
       "       [  75.16606493],\n",
       "       [ 312.65214039],\n",
       "       [ 273.07112781],\n",
       "       [ 273.07112781],\n",
       "       [ 292.8616341 ],\n",
       "       [ 312.65214039],\n",
       "       [-102.94849167],\n",
       "       [ 193.90910266],\n",
       "       [ 273.07112781],\n",
       "       [ 312.65214039],\n",
       "       [ 292.8616341 ],\n",
       "       [ 292.8616341 ],\n",
       "       [ 233.49011523],\n",
       "       [ 312.65214039],\n",
       "       [ 193.90910266],\n",
       "       [  75.16606493],\n",
       "       [ 292.8616341 ],\n",
       "       [ 292.8616341 ],\n",
       "       [ 312.65214039],\n",
       "       [  75.16606493],\n",
       "       [ 292.8616341 ],\n",
       "       [ 253.28062152],\n",
       "       [ 312.65214039],\n",
       "       [ 213.69960894],\n",
       "       [ 253.28062152],\n",
       "       [ 312.65214039],\n",
       "       [ 312.65214039],\n",
       "       [  94.95657121],\n",
       "       [ 233.49011523],\n",
       "       [ 213.69960894],\n",
       "       [ 253.28062152],\n",
       "       [  55.37555864],\n",
       "       [  55.37555864],\n",
       "       [  94.95657121],\n",
       "       [ -63.36747909],\n",
       "       [  35.58505235],\n",
       "       [ 233.49011523],\n",
       "       [ -85.13703601],\n",
       "       [ 292.8616341 ],\n",
       "       [ 253.28062152],\n",
       "       [ 292.8616341 ],\n",
       "       [ 312.65214039],\n",
       "       [ 193.90910266],\n",
       "       [ 312.65214039],\n",
       "       [-102.94849167],\n",
       "       [ 174.11859637],\n",
       "       [ 233.49011523],\n",
       "       [ 193.90910266],\n",
       "       [ -83.15798538],\n",
       "       [ 213.69960894],\n",
       "       [ -63.36747909],\n",
       "       [  75.16606493],\n",
       "       [ 292.8616341 ],\n",
       "       [ -63.36747909],\n",
       "       [ 233.49011523],\n",
       "       [ 292.8616341 ],\n",
       "       [ -63.36747909],\n",
       "       [ 292.8616341 ],\n",
       "       [ 273.07112781],\n",
       "       [ 233.49011523],\n",
       "       [ 233.49011523],\n",
       "       [ 292.8616341 ],\n",
       "       [  94.95657121],\n",
       "       [  73.1870143 ],\n",
       "       [  75.16606493],\n",
       "       [ 114.7470775 ],\n",
       "       [ 292.8616341 ],\n",
       "       [ 273.07112781],\n",
       "       [ 312.65214039],\n",
       "       [  94.95657121],\n",
       "       [ 312.65214039],\n",
       "       [ 273.07112781],\n",
       "       [ 273.07112781],\n",
       "       [ 312.65214039],\n",
       "       [ 292.8616341 ],\n",
       "       [ 273.07112781],\n",
       "       [ 312.65214039],\n",
       "       [  75.16606493],\n",
       "       [ -83.15798538],\n",
       "       [ 253.28062152],\n",
       "       [ 273.07112781],\n",
       "       [ 273.07112781],\n",
       "       [ 312.65214039],\n",
       "       [ 312.65214039]])"
      ]
     },
     "execution_count": 41,
     "metadata": {},
     "output_type": "execute_result"
    }
   ],
   "source": [
    "pred_y"
   ]
  },
  {
   "cell_type": "code",
   "execution_count": 42,
   "metadata": {},
   "outputs": [
    {
     "data": {
      "text/html": [
       "<div>\n",
       "<style scoped>\n",
       "    .dataframe tbody tr th:only-of-type {\n",
       "        vertical-align: middle;\n",
       "    }\n",
       "\n",
       "    .dataframe tbody tr th {\n",
       "        vertical-align: top;\n",
       "    }\n",
       "\n",
       "    .dataframe thead th {\n",
       "        text-align: right;\n",
       "    }\n",
       "</style>\n",
       "<table border=\"1\" class=\"dataframe\">\n",
       "  <thead>\n",
       "    <tr style=\"text-align: right;\">\n",
       "      <th></th>\n",
       "      <th>sno</th>\n",
       "    </tr>\n",
       "  </thead>\n",
       "  <tbody>\n",
       "    <tr>\n",
       "      <td>154</td>\n",
       "      <td>155</td>\n",
       "    </tr>\n",
       "    <tr>\n",
       "      <td>390</td>\n",
       "      <td>389</td>\n",
       "    </tr>\n",
       "    <tr>\n",
       "      <td>54</td>\n",
       "      <td>55</td>\n",
       "    </tr>\n",
       "    <tr>\n",
       "      <td>199</td>\n",
       "      <td>199</td>\n",
       "    </tr>\n",
       "    <tr>\n",
       "      <td>10</td>\n",
       "      <td>11</td>\n",
       "    </tr>\n",
       "    <tr>\n",
       "      <td>...</td>\n",
       "      <td>...</td>\n",
       "    </tr>\n",
       "    <tr>\n",
       "      <td>213</td>\n",
       "      <td>213</td>\n",
       "    </tr>\n",
       "    <tr>\n",
       "      <td>252</td>\n",
       "      <td>252</td>\n",
       "    </tr>\n",
       "    <tr>\n",
       "      <td>247</td>\n",
       "      <td>247</td>\n",
       "    </tr>\n",
       "    <tr>\n",
       "      <td>408</td>\n",
       "      <td>407</td>\n",
       "    </tr>\n",
       "    <tr>\n",
       "      <td>420</td>\n",
       "      <td>419</td>\n",
       "    </tr>\n",
       "  </tbody>\n",
       "</table>\n",
       "<p>130 rows × 1 columns</p>\n",
       "</div>"
      ],
      "text/plain": [
       "     sno\n",
       "154  155\n",
       "390  389\n",
       "54    55\n",
       "199  199\n",
       "10    11\n",
       "..   ...\n",
       "213  213\n",
       "252  252\n",
       "247  247\n",
       "408  407\n",
       "420  419\n",
       "\n",
       "[130 rows x 1 columns]"
      ]
     },
     "execution_count": 42,
     "metadata": {},
     "output_type": "execute_result"
    }
   ],
   "source": [
    "testing_y"
   ]
  },
  {
   "cell_type": "code",
   "execution_count": 43,
   "metadata": {},
   "outputs": [
    {
     "data": {
      "text/plain": [
       "array([[19.79050629]])"
      ]
     },
     "execution_count": 43,
     "metadata": {},
     "output_type": "execute_result"
    }
   ],
   "source": [
    "Lin.coef_"
   ]
  },
  {
   "cell_type": "code",
   "execution_count": 44,
   "metadata": {},
   "outputs": [
    {
     "data": {
      "text/plain": [
       "array([-148.46665613])"
      ]
     },
     "execution_count": 44,
     "metadata": {},
     "output_type": "execute_result"
    }
   ],
   "source": [
    "Lin.intercept_"
   ]
  },
  {
   "cell_type": "code",
   "execution_count": 45,
   "metadata": {},
   "outputs": [
    {
     "name": "stdout",
     "output_type": "stream",
     "text": [
      "Mean Absolute Error: 51.105466911385705\n",
      "Mean Squared Error: 3570.308678470098\n",
      "Root Mean Squared Error: 59.752060035366966\n"
     ]
    }
   ],
   "source": [
    "from sklearn import metrics\n",
    "print('Mean Absolute Error:', metrics.mean_absolute_error(testing_y, pred_y))\n",
    "print('Mean Squared Error:', metrics.mean_squared_error(testing_y, pred_y))\n",
    "print('Root Mean Squared Error:', np.sqrt(metrics.mean_squared_error(testing_y,pred_y)))"
   ]
  },
  {
   "cell_type": "code",
   "execution_count": 46,
   "metadata": {},
   "outputs": [
    {
     "data": {
      "text/plain": [
       "<matplotlib.collections.PathCollection at 0x284512dc448>"
      ]
     },
     "execution_count": 46,
     "metadata": {},
     "output_type": "execute_result"
    },
    {
     "data": {
      "image/png": "[encoded data removed]",
      "text/plain": [
       "<Figure size 432x288 with 1 Axes>"
      ]
     },
     "metadata": {
      "needs_background": "light"
     },
     "output_type": "display_data"
    }
   ],
   "source": [
    "plt.scatter(training_x,training_y,color='green')"
   ]
  },
  {
   "cell_type": "code",
   "execution_count": 47,
   "metadata": {},
   "outputs": [
    {
     "data": {
      "text/plain": [
       "[<matplotlib.lines.Line2D at 0x28451338b48>]"
      ]
     },
     "execution_count": 47,
     "metadata": {},
     "output_type": "execute_result"
    },
    {
     "data": {
      "image/png": "[encoded data removed]",
      "text/plain": [
       "<Figure size 432x288 with 1 Axes>"
      ]
     },
     "metadata": {
      "needs_background": "light"
     },
     "output_type": "display_data"
    }
   ],
   "source": [
    "plt.plot(training_x,Lin.predict(training_x),color='blue')"
   ]
  },
  {
   "cell_type": "code",
   "execution_count": 49,
   "metadata": {},
   "outputs": [
    {
     "data": {
      "image/png": "[encoded data removed]",
      "text/plain": [
       "<Figure size 432x288 with 1 Axes>"
      ]
     },
     "metadata": {
      "needs_background": "light"
     },
     "output_type": "display_data"
    }
   ],
   "source": [
    "plt.title('date and no. of case')\n",
    "plt.xlabel(\"date\")\n",
    "plt.ylabel(\"sno\")\n",
    "plt.show()"
   ]
  },
  {
   "cell_type": "code",
   "execution_count": 50,
   "metadata": {},
   "outputs": [
    {
     "data": {
      "text/plain": [
       "<matplotlib.collections.PathCollection at 0x28451487dc8>"
      ]
     },
     "execution_count": 50,
     "metadata": {},
     "output_type": "execute_result"
    },
    {
     "data": {
      "image/png": "[encoded data removed]",
      "text/plain": [
       "<Figure size 432x288 with 1 Axes>"
      ]
     },
     "metadata": {
      "needs_background": "light"
     },
     "output_type": "display_data"
    }
   ],
   "source": [
    "plt.scatter(testing_x, testing_y, color='green')"
   ]
  },
  {
   "cell_type": "code",
   "execution_count": 51,
   "metadata": {},
   "outputs": [
    {
     "data": {
      "text/plain": [
       "[<matplotlib.lines.Line2D at 0x284514b5488>]"
      ]
     },
     "execution_count": 51,
     "metadata": {},
     "output_type": "execute_result"
    },
    {
     "data": {
      "image/png": "[encoded data removed]",
      "text/plain": [
       "<Figure size 432x288 with 1 Axes>"
      ]
     },
     "metadata": {
      "needs_background": "light"
     },
     "output_type": "display_data"
    }
   ],
   "source": [
    "plt.plot(training_x,Lin.predict(training_x),color='blue')"
   ]
  },
  {
   "cell_type": "code",
   "execution_count": 53,
   "metadata": {},
   "outputs": [
    {
     "data": {
      "image/png": "[encoded data removed]",
      "text/plain": [
       "<Figure size 432x288 with 1 Axes>"
      ]
     },
     "metadata": {
      "needs_background": "light"
     },
     "output_type": "display_data"
    }
   ],
   "source": [
    "plt.plot(training_x,Lin.predict(training_x),color='blue')\n",
    "plt.scatter(testing_x, testing_y,color='green')\n",
    "plt.title(\"day and no. of case\")\n",
    "plt.xlabel('day')\n",
    "plt.ylabel('sno')\n",
    "plt.show()"
   ]
  },
  {
   "cell_type": "code",
   "execution_count": null,
   "metadata": {},
   "outputs": [],
   "source": []
  }
 ],
 "metadata": {
  "kernelspec": {
   "display_name": "Python 3",
   "language": "python",
   "name": "python3"
  },
  "language_info": {
   "codemirror_mode": {
    "name": "ipython",
    "version": 3
   },
   "file_extension": ".py",
   "mimetype": "text/x-python",
   "name": "python",
   "nbconvert_exporter": "python",
   "pygments_lexer": "ipython3",
   "version": "3.7.4"
  }
 },
 "nbformat": 4,
 "nbformat_minor": 2
}
